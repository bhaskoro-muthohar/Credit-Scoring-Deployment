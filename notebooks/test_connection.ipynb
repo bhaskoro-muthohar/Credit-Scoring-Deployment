{
 "cells": [
  {
   "cell_type": "code",
   "execution_count": 2,
   "metadata": {},
   "outputs": [
    {
     "data": {
      "text/plain": [
       "{'prediction': 1}"
      ]
     },
     "execution_count": 2,
     "metadata": {},
     "output_type": "execute_result"
    }
   ],
   "source": [
    "import requests\n",
    "to_predict_dict = {'age': 25,\n",
    "                   'live_province': 'DKI Jakarta',\n",
    "                   'live_city': 'Jakarta Pusat',\n",
    "                   'sex': 1,\n",
    "                   'marital': 2,\n",
    "                   'bank': 'BCA',\n",
    "                   'salary': 5500000,\n",
    "                   'amount': 3000000}\n",
    "\n",
    "url = 'http://127.0.0.1:8000/predict'\n",
    "r = requests.post(url,json=to_predict_dict); r.json()"
   ]
  }
 ],
 "metadata": {
  "kernelspec": {
   "display_name": "Python 3",
   "language": "python",
   "name": "python3"
  },
  "language_info": {
   "codemirror_mode": {
    "name": "ipython",
    "version": 3
   },
   "file_extension": ".py",
   "mimetype": "text/x-python",
   "name": "python",
   "nbconvert_exporter": "python",
   "pygments_lexer": "ipython3",
   "version": "3.7.3"
  },
  "pycharm": {
   "stem_cell": {
    "cell_type": "raw",
    "source": [],
    "metadata": {
     "collapsed": false
    }
   }
  }
 },
 "nbformat": 4,
 "nbformat_minor": 2
}